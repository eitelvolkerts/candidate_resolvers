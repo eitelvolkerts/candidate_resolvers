{
  "cells": [
    {
      "cell_type": "code",
      "execution_count": null,
      "metadata": {
        "id": "NiDqqCyKRxSq"
      },
      "outputs": [],
      "source": [
        "!pip install web3 sha3 ecpy\n",
        "!pip install protobuf==4.21.6\n",
        "import web3\n",
        "import numpy as np\n",
        "import requests\n",
        "import sha3\n",
        "import json\n",
        "from ecpy import curves, keys\n",
        "import eth_abi\n",
        "import eth_abi.packed\n",
        "import hexbytes"
      ]
    },
    {
      "cell_type": "code",
      "execution_count": null,
      "metadata": {
        "id": "C-YDCAC0RxSr"
      },
      "outputs": [],
      "source": [
        "pk = 0x   #Private Key"
      ]
    },
    {
      "cell_type": "code",
      "execution_count": null,
      "metadata": {
        "id": "8WslOMoMRxSs"
      },
      "outputs": [],
      "source": [
        "cv = curves.Curve.get_curve('secp256k1')\n",
        "pv_key = keys.ECPrivateKey(pk, cv)\n",
        "pu_key = pv_key.get_public_key()\n",
        "concat_x_y = pu_key.W.x.to_bytes(32, byteorder='big') + pu_key.W.y.to_bytes(32, byteorder='big')\n",
        "eth_addr = web3.Web3.keccak(concat_x_y)[-20:].hex()\n",
        "ch_eth_addr = web3.Web3.to_checksum_address(eth_addr)\n",
        "ch_eth_addr"
      ]
    },
    {
      "cell_type": "code",
      "execution_count": null,
      "metadata": {
        "id": "rksN1eIcRxSt"
      },
      "outputs": [],
      "source": [
        "w3 = web3.Web3(web3.HTTPProvider('https://eth-sepolia.g.alchemy.com/v2/jpZvH2isfX1Pppx5VUjXg0pCQK0mllb0'))\n",
        "w3.is_connected()"
      ]
    },
    {
      "cell_type": "code",
      "execution_count": null,
      "metadata": {
        "id": "K35RtvmpRxSt"
      },
      "outputs": [],
      "source": []
    },
    {
      "cell_type": "code",
      "execution_count": null,
      "metadata": {
        "id": "bVCrKgEcRxSt"
      },
      "outputs": [],
      "source": [
        "nulladdr = '0x'+'0'*40"
      ]
    },
    {
      "cell_type": "code",
      "execution_count": null,
      "metadata": {
        "id": "M0WWadjdRxSt"
      },
      "outputs": [],
      "source": [
        "amount = 0.1\n",
        "jobAddress = w3.to_checksum_address('0x4d6409411Fc18619895A9eD707DBc98ad6708C45')\n",
        "jobSelector = hexbytes.HexBytes(0xd09de08a) #0xd09de08a selector #0x3459b7ea calldata\n",
        "useJobOwnerCredits = True\n",
        "assertResolverSelector = False\n",
        "maxBaseFeeGwei = 500\n",
        "rewardPct = 0\n",
        "fixedReward = 5000\n",
        "jobMinCvp = 1000000000000000000000\n",
        "calldataSource = 0\n",
        "intervalSeconds = 120\n",
        "resolverAddress =  \"0x4d6409411Fc18619895A9eD707DBc98ad6708C45\" #\"0x3Bc5e58EF60e83219FC71e659023B5a22713915a\" #\"0x276352c103FB5d66584A70DaC5AB356FA40bD7d7\" #nulladdr\n",
        "resolverCalldata =  hexbytes.HexBytes(0x0ec6af7b) #hexbytes.HexBytes(0x0ec6af7b) #hexbytes.HexBytes(0x00)\n",
        "preDefinedCalldata = hexbytes.HexBytes(0x00) #hexbytes.HexBytes(0x3459b7ea000000000000000000000000000000000000000000000000000000000000002000000000000000000000000000000000000000000000000000000000000000142b8c6f9cf28ca722d891bb46f83d3896848cb019000000000000000000000000) #0x000000000000000000000000da2abfdce949e4e8158829176e7e8af493565b6d"
      ]
    },
    {
      "cell_type": "code",
      "execution_count": null,
      "metadata": {
        "id": "aPu29u7-RxSu"
      },
      "outputs": [],
      "source": [
        "apiEndpoint = 'https://api-sepolia.etherscan.io/api?module=contract&action=getabi&address='\n",
        "agentAddr = '0xc8E864f12c337Bdf6294a3DCeE0E565D2B1B4d90'#The latest Agent address\n",
        "toCall = apiEndpoint+agentAddr"
      ]
    },
    {
      "cell_type": "code",
      "execution_count": null,
      "metadata": {
        "id": "tOsp2psnRxSu"
      },
      "outputs": [],
      "source": [
        "agentAbi = json.loads(requests.get(toCall).json()['result'])\n",
        "agent = w3.eth.contract(abi = agentAbi, address = agentAddr)"
      ]
    },
    {
      "cell_type": "code",
      "execution_count": null,
      "metadata": {
        "id": "BcqUOKN3RxSu"
      },
      "outputs": [],
      "source": [
        "params_ = {\n",
        "    'params_': (jobAddress, jobSelector, useJobOwnerCredits, assertResolverSelector, maxBaseFeeGwei, rewardPct, fixedReward, jobMinCvp, calldataSource, intervalSeconds),\n",
        "    'resolver_': (resolverAddress, resolverCalldata),\n",
        "    'preDefinedCalldata_': preDefinedCalldata\n",
        "}"
      ]
    },
    {
      "cell_type": "code",
      "execution_count": null,
      "metadata": {
        "id": "oWW7ixnxRxSv"
      },
      "outputs": [],
      "source": [
        "tx = agent.functions.registerJob(**params_).build_transaction(\n",
        "    {'from': ch_eth_addr,\n",
        "     'nonce': w3.eth.get_transaction_count(ch_eth_addr),\n",
        "     'value': int(amount*1e18)}\n",
        ")"
      ]
    },
    {
      "cell_type": "code",
      "execution_count": null,
      "metadata": {
        "id": "6mAejtzTRxSv"
      },
      "outputs": [],
      "source": [
        "st = w3.eth.account.sign_transaction(tx, pk)\n",
        "w3.eth.send_raw_transaction(st.rawTransaction)"
      ]
    },
    {
      "cell_type": "code",
      "execution_count": null,
      "metadata": {
        "id": "RDrRa0faRxSv"
      },
      "outputs": [],
      "source": []
    },
    {
      "cell_type": "code",
      "execution_count": null,
      "metadata": {
        "id": "ohpDa4EnRxSv"
      },
      "outputs": [],
      "source": []
    },
    {
      "cell_type": "code",
      "execution_count": null,
      "metadata": {
        "id": "wTs7RNFiRxSv"
      },
      "outputs": [],
      "source": []
    },
    {
      "cell_type": "code",
      "execution_count": null,
      "metadata": {
        "id": "kExpUTHTRxSv"
      },
      "outputs": [],
      "source": []
    }
  ],
  "metadata": {
    "kernelspec": {
      "display_name": "job_deployer",
      "language": "python",
      "name": "python3"
    },
    "language_info": {
      "codemirror_mode": {
        "name": "ipython",
        "version": 3
      },
      "file_extension": ".py",
      "mimetype": "text/x-python",
      "name": "python",
      "nbconvert_exporter": "python",
      "pygments_lexer": "ipython3",
      "version": "3.10.12"
    },
    "orig_nbformat": 4,
    "colab": {
      "provenance": []
    }
  },
  "nbformat": 4,
  "nbformat_minor": 0
}